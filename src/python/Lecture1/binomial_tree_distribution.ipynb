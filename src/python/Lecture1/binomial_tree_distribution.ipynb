{
 "cells": [
  {
   "cell_type": "markdown",
   "id": "0e3050f9-04e3-461a-80d2-45a159aad8b8",
   "metadata": {},
   "source": [
    "# Plotting distribution of Binomial Tree"
   ]
  },
  {
   "cell_type": "code",
   "execution_count": null,
   "id": "d0285b7a-7730-4a51-a93a-fffde25f392f",
   "metadata": {},
   "outputs": [],
   "source": [
    "import fineng_irfx as fe\n",
    "import matplotlib.pyplot as plt\n",
    "import numpy as np\n",
    "import binomial_tree as bt"
   ]
  },
  {
   "cell_type": "code",
   "execution_count": null,
   "id": "0189e91b-0623-4802-b929-cd4d292378a1",
   "metadata": {},
   "outputs": [],
   "source": [
    "print(fe.L1_S.__doc__)\n",
    "print(fe.L1_NewtonSymb.__doc__)\n",
    "print(fe.L1_riskNeutralProb.__doc__)"
   ]
  },
  {
   "cell_type": "code",
   "execution_count": null,
   "id": "49faaf39-3fb5-44c1-afff-ecd1c61f7004",
   "metadata": {},
   "outputs": [],
   "source": [
    "S0 = 100.\n",
    "sigma = 0.1\n",
    "T = 3.\n",
    "K = 125.\n",
    "r = 0.02\n",
    "N = 30\n",
    "\n",
    "BTree_CRR = bt.BinomialTree(S0, sigma, r, K, T, N, \"CRR\")\n",
    "print(\"CRR:   \", BTree_CRR.U)\n",
    "BTree_JR = bt.BinomialTree(S0, sigma, r, K, T, N, \"JR\")\n",
    "print(\"CRR:   \", BTree_JR.U)\n",
    "BTree_vdrift = bt.BinomialTree(S0, sigma, r, K, T, N, \"v-drift\")\n",
    "print(\"v-drift: \", BTree_vdrift.U)\n",
    "BTree_g = bt.BinomialTree(S0, sigma, r, K, T, N, \"geometric-centred-strike\")\n",
    "print(\"Geo:   \", BTree_g.U)\n",
    "BTree_a = bt.BinomialTree(S0, sigma, r, K, T, N, \"arithmetic-centred-strike\")\n",
    "print(\"arith: \", BTree_a.U)"
   ]
  },
  {
   "cell_type": "code",
   "execution_count": null,
   "id": "2d8deac3-cd9f-4a0e-b9b5-cf8f39c3cd9b",
   "metadata": {},
   "outputs": [],
   "source": [
    "def prob_dist(Tree):\n",
    "    range = np.arange(Tree.N+1)\n",
    "    S_Ti = [Tree.S_T(i) for i in range]\n",
    "    Q_Ti = [Tree.prob(i) for i in range]\n",
    "    return S_Ti, Q_Ti"
   ]
  },
  {
   "cell_type": "code",
   "execution_count": null,
   "id": "8d7c3429-41eb-4e82-ac79-a1ef76b9606c",
   "metadata": {},
   "outputs": [],
   "source": [
    "Tree_list = [BTree_CRR, BTree_JR, BTree_vdrift, BTree_g, BTree_a]\n",
    "Tree_list = [BTree_CRR, BTree_JR, BTree_vdrift, BTree_g]\n",
    "prob_dist_list = [[prob_dist(t)] for t in Tree_list]"
   ]
  },
  {
   "cell_type": "code",
   "execution_count": null,
   "id": "5e087d55-542c-48a6-a05a-cb32d2e8f1e9",
   "metadata": {},
   "outputs": [],
   "source": [
    "plt.figure()\n",
    "for i,pd in enumerate(prob_dist_list):\n",
    "    plt.plot(pd[0][0], pd[0][1], \".--\", label=str(i))\n",
    "plt.legend()\n",
    "plt.grid(color=\"grey\", linewidth=0.2, linestyle=\"--\")\n",
    "plt.show()"
   ]
  }
 ],
 "metadata": {
  "kernelspec": {
   "display_name": ".venv",
   "language": "python",
   "name": ".venv"
  },
  "language_info": {
   "codemirror_mode": {
    "name": "ipython",
    "version": 3
   },
   "file_extension": ".py",
   "mimetype": "text/x-python",
   "name": "python",
   "nbconvert_exporter": "python",
   "pygments_lexer": "ipython3",
   "version": "3.11.6"
  }
 },
 "nbformat": 4,
 "nbformat_minor": 5
}
