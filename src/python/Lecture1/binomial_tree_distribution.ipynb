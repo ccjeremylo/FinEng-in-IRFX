{
 "cells": [
  {
   "cell_type": "markdown",
   "id": "0e3050f9-04e3-461a-80d2-45a159aad8b8",
   "metadata": {},
   "source": [
    "# Plotting distribution of Binomial Tree"
   ]
  },
  {
   "cell_type": "code",
   "execution_count": null,
   "id": "d0285b7a-7730-4a51-a93a-fffde25f392f",
   "metadata": {},
   "outputs": [],
   "source": []
  },
  {
   "cell_type": "code",
   "execution_count": null,
   "id": "0189e91b-0623-4802-b929-cd4d292378a1",
   "metadata": {},
   "outputs": [],
   "source": []
  },
  {
   "cell_type": "code",
   "execution_count": null,
   "id": "ad1e1127-5419-4cad-b835-e157aca85a23",
   "metadata": {},
   "outputs": [],
   "source": []
  }
 ],
 "metadata": {
  "kernelspec": {
   "display_name": ".venv",
   "language": "python",
   "name": ".venv"
  },
  "language_info": {
   "codemirror_mode": {
    "name": "ipython",
    "version": 3
   },
   "file_extension": ".py",
   "mimetype": "text/x-python",
   "name": "python",
   "nbconvert_exporter": "python",
   "pygments_lexer": "ipython3",
   "version": "3.11.5"
  }
 },
 "nbformat": 4,
 "nbformat_minor": 5
}
