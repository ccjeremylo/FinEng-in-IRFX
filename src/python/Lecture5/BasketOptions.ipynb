{
 "cells": [
  {
   "cell_type": "markdown",
   "id": "95ad5d1e-b480-49e4-a063-19c448003517",
   "metadata": {},
   "source": [
    "# Pricing basket options with Monte Carlo methods"
   ]
  },
  {
   "cell_type": "code",
   "execution_count": 1,
   "id": "33bcf591-0df8-410b-89b9-8a5b078c5ebf",
   "metadata": {},
   "outputs": [],
   "source": [
    "import fineng_irfx as fe\n",
    "import matplotlib.pyplot as plt\n",
    "import numpy as np\n",
    "import math\n",
    "from basket import *"
   ]
  },
  {
   "cell_type": "code",
   "execution_count": 2,
   "id": "3172a7c3-48f8-45b5-a5b8-93204ed67749",
   "metadata": {},
   "outputs": [],
   "source": [
    "plot_dir = r\"plots/\""
   ]
  },
  {
   "cell_type": "code",
   "execution_count": null,
   "id": "fff43b1d-db10-4dfd-ab44-d92c8b69c9b3",
   "metadata": {},
   "outputs": [],
   "source": []
  },
  {
   "cell_type": "code",
   "execution_count": null,
   "id": "1a49e195-ed7b-4ea9-9a61-7a339b849fa5",
   "metadata": {},
   "outputs": [],
   "source": []
  },
  {
   "cell_type": "code",
   "execution_count": null,
   "id": "b4f27d6c-b13c-412a-a209-b57929a9fd28",
   "metadata": {},
   "outputs": [],
   "source": []
  },
  {
   "cell_type": "code",
   "execution_count": null,
   "id": "107fb321-4bed-4685-8f08-f06bb3e22c92",
   "metadata": {},
   "outputs": [],
   "source": []
  }
 ],
 "metadata": {
  "kernelspec": {
   "display_name": ".venv",
   "language": "python",
   "name": ".venv"
  },
  "language_info": {
   "codemirror_mode": {
    "name": "ipython",
    "version": 3
   },
   "file_extension": ".py",
   "mimetype": "text/x-python",
   "name": "python",
   "nbconvert_exporter": "python",
   "pygments_lexer": "ipython3",
   "version": "3.11.6"
  }
 },
 "nbformat": 4,
 "nbformat_minor": 5
}
