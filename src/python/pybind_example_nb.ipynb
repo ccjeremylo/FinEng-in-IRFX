{
 "cells": [
  {
   "cell_type": "markdown",
   "id": "3962bc77-4e0b-4e79-b84a-148900ade34d",
   "metadata": {},
   "source": [
    "# Jupyter notebook pybind example\n",
    "1. importing module\n",
    "2. running functions\n",
    "3. viewing doc strings\n",
    "4. [tbd] building objects"
   ]
  },
  {
   "cell_type": "code",
   "execution_count": 1,
   "id": "26527608-aaba-4fab-ae0c-383353f82ec1",
   "metadata": {},
   "outputs": [],
   "source": [
    "import fineng_irfx as fe"
   ]
  },
  {
   "cell_type": "markdown",
   "id": "9562993b-4a7a-484d-8b36-254393fee057",
   "metadata": {},
   "source": [
    "### Testing if python binding works"
   ]
  },
  {
   "cell_type": "code",
   "execution_count": 2,
   "id": "7f79c1f4-4974-48b8-a45d-8244602e4065",
   "metadata": {},
   "outputs": [
    {
     "name": "stdout",
     "output_type": "stream",
     "text": [
      "100 + 235 = 335\n",
      "100 - 235 = -135\n",
      "1.32 * -3.28 = -4.3296 \n",
      "\n"
     ]
    }
   ],
   "source": [
    "# a and b must be int, they are strongly typed!\n",
    "a = 100\n",
    "b = 235\n",
    "\n",
    "print(f\"{a} + {b} =\", fe.adding(a, b))\n",
    "print(f\"{a} - {b} =\", fe.subtracting(a, b))\n",
    "\n",
    "a = 1.32\n",
    "b = -3.28\n",
    "print(f\"{a} * {b} =\", fe.times(a, b), \"\\n\")"
   ]
  },
  {
   "cell_type": "code",
   "execution_count": 3,
   "id": "53a33864-f122-4729-af4c-da787feab7ba",
   "metadata": {},
   "outputs": [
    {
     "name": "stdout",
     "output_type": "stream",
     "text": [
      "Risk neutral up prob: q(U,D,R) = q(0.02,-0.02,0.01) = 0.75 \n",
      "\n"
     ]
    }
   ],
   "source": [
    "U = 0.02\n",
    "D = -0.02\n",
    "R = 0.01\n",
    "\n",
    "q = fe.L1_riskNeutralProb(U, D, R)\n",
    "print(f\"Risk neutral up prob: q(U,D,R) = q({U},{D},{R}) = {q}\", \"\\n\")"
   ]
  },
  {
   "cell_type": "markdown",
   "id": "91a5b6eb-7380-4636-a909-ee7b2f94fc78",
   "metadata": {},
   "source": [
    "### Viewing doc strings"
   ]
  },
  {
   "cell_type": "code",
   "execution_count": 4,
   "id": "67f7db1a-aed0-455c-8696-f5d6c576389f",
   "metadata": {},
   "outputs": [
    {
     "name": "stdout",
     "output_type": "stream",
     "text": [
      "\n",
      "        Pybind11 example plugin\n",
      "        -----------------------\n",
      "\n",
      "        .. currentmodule:: fineng_irfx\n",
      "\n",
      "        .. autosummary::\n",
      "           :toctree: _generatec\n",
      "        \n",
      "           times\n",
      "           adding\n",
      "           subtracting\n",
      "\n",
      "           L1_riskNeutralProb\n",
      "    \n"
     ]
    }
   ],
   "source": [
    "print(fe.__doc__)"
   ]
  },
  {
   "cell_type": "code",
   "execution_count": 5,
   "id": "d6cd64c6-48d5-4512-b903-2587ada4e0b5",
   "metadata": {},
   "outputs": [
    {
     "name": "stdout",
     "output_type": "stream",
     "text": [
      "L1_riskNeutralProb(U: float, D: float, R: float) -> float\n",
      "\n",
      "\n",
      "        Compute risk neutral prob for up move in Binomial model\n",
      "    \n",
      "\n"
     ]
    }
   ],
   "source": [
    "print(fe.L1_riskNeutralProb.__doc__)"
   ]
  },
  {
   "cell_type": "code",
   "execution_count": 6,
   "id": "54ccbf8b-fde3-4df1-b302-6c4cfe94f172",
   "metadata": {},
   "outputs": [
    {
     "name": "stdout",
     "output_type": "stream",
     "text": [
      "adding(i: int, j: int) -> int\n",
      "\n",
      "\n",
      "        Add two integers\n",
      "    \n",
      "\n"
     ]
    }
   ],
   "source": [
    "print(fe.adding.__doc__)"
   ]
  },
  {
   "cell_type": "markdown",
   "id": "0af3269d-b079-437f-9e8f-9c26af0f346c",
   "metadata": {},
   "source": [
    "### Add examples for building objects!"
   ]
  },
  {
   "cell_type": "markdown",
   "id": "f492aca5-f15d-46e0-9999-0b4022e8397a",
   "metadata": {},
   "source": [
    "### Hopfully all works...?"
   ]
  },
  {
   "cell_type": "code",
   "execution_count": 7,
   "id": "ea5d063f-c32e-429b-abdf-0fef43e6c94b",
   "metadata": {},
   "outputs": [
    {
     "name": "stdout",
     "output_type": "stream",
     "text": [
      "Success!! :D\n"
     ]
    }
   ],
   "source": [
    "print(\"Success!! :D\")"
   ]
  },
  {
   "cell_type": "code",
   "execution_count": null,
   "id": "9f9caa75-7761-48c0-a7af-0af26a90670d",
   "metadata": {},
   "outputs": [],
   "source": []
  }
 ],
 "metadata": {
  "kernelspec": {
   "display_name": ".venv",
   "language": "python",
   "name": ".venv"
  },
  "language_info": {
   "codemirror_mode": {
    "name": "ipython",
    "version": 3
   },
   "file_extension": ".py",
   "mimetype": "text/x-python",
   "name": "python",
   "nbconvert_exporter": "python",
   "pygments_lexer": "ipython3",
   "version": "3.11.6"
  }
 },
 "nbformat": 4,
 "nbformat_minor": 5
}
