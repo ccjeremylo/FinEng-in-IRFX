{
 "cells": [
  {
   "cell_type": "markdown",
   "id": "3962bc77-4e0b-4e79-b84a-148900ade34d",
   "metadata": {},
   "source": [
    "# Jupyter notebook pybind example"
   ]
  },
  {
   "cell_type": "code",
   "execution_count": 1,
   "id": "26527608-aaba-4fab-ae0c-383353f82ec1",
   "metadata": {},
   "outputs": [],
   "source": [
    "import cmake_example as ce"
   ]
  },
  {
   "cell_type": "code",
   "execution_count": 2,
   "id": "7f79c1f4-4974-48b8-a45d-8244602e4065",
   "metadata": {},
   "outputs": [
    {
     "name": "stdout",
     "output_type": "stream",
     "text": [
      "Calling c++ 'add'      function: 100 + 235 = 335\n",
      "Calling c++ 'subtract' function: 100 - 235 = -135 \n",
      "\n"
     ]
    }
   ],
   "source": [
    "# a and b must be int, they are strongly typed!\n",
    "a = 100\n",
    "b = 235\n",
    "\n",
    "print(f\"Calling c++ 'add'      function: {a} + {b} =\", ce.add(a, b))\n",
    "print(f\"Calling c++ 'subtract' function: {a} - {b} =\", ce.subtract(a, b), \"\\n\")"
   ]
  },
  {
   "cell_type": "code",
   "execution_count": 3,
   "id": "ea5d063f-c32e-429b-abdf-0fef43e6c94b",
   "metadata": {},
   "outputs": [
    {
     "name": "stdout",
     "output_type": "stream",
     "text": [
      "Success!! :D\n"
     ]
    }
   ],
   "source": [
    "print(\"Success!! :D\")"
   ]
  }
 ],
 "metadata": {
  "kernelspec": {
   "display_name": ".venv",
   "language": "python",
   "name": ".venv"
  },
  "language_info": {
   "codemirror_mode": {
    "name": "ipython",
    "version": 3
   },
   "file_extension": ".py",
   "mimetype": "text/x-python",
   "name": "python",
   "nbconvert_exporter": "python",
   "pygments_lexer": "ipython3",
   "version": "3.11.5"
  }
 },
 "nbformat": 4,
 "nbformat_minor": 5
}
