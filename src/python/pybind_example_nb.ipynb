{
 "cells": [
  {
   "cell_type": "markdown",
   "id": "3962bc77-4e0b-4e79-b84a-148900ade34d",
   "metadata": {},
   "source": [
    "# Jupyter notebook pybind example"
   ]
  },
  {
   "cell_type": "code",
   "execution_count": 1,
   "id": "26527608-aaba-4fab-ae0c-383353f82ec1",
   "metadata": {},
   "outputs": [],
   "source": [
    "import fineng_irfx as fe"
   ]
  },
  {
   "cell_type": "code",
   "execution_count": 2,
   "id": "7f79c1f4-4974-48b8-a45d-8244602e4065",
   "metadata": {},
   "outputs": [
    {
     "name": "stdout",
     "output_type": "stream",
     "text": [
      "Calling c++ 'add'      function: 100 + 235 = 335\n",
      "Calling c++ 'subtract' function: 100 - 235 = -135\n",
      "Calling c++ 'times' function: 1.32 * -3.28 = -4.3296 \n",
      "\n"
     ]
    }
   ],
   "source": [
    "# a and b must be int, they are strongly typed!\n",
    "a = 100\n",
    "b = 235\n",
    "\n",
    "print(f\"{a} + {b} =\", fe.adding(a, b))\n",
    "print(f\"{a} - {b} =\", fe.subtracting(a, b))\n",
    "\n",
    "a = 1.32\n",
    "b = -3.28\n",
    "print(f\"{a} * {b} =\", fe.times(a, b), \"\\n\")"
   ]
  },
  {
   "cell_type": "code",
   "execution_count": 3,
   "id": "53a33864-f122-4729-af4c-da787feab7ba",
   "metadata": {},
   "outputs": [
    {
     "name": "stdout",
     "output_type": "stream",
     "text": [
      "Risk neutral up prob: q(U,D,R) = q(0.02,-0.02,0.01) = 0.75 \n",
      "\n"
     ]
    }
   ],
   "source": [
    "U = 0.02\n",
    "D = -0.02\n",
    "R = 0.01\n",
    "\n",
    "q = fe.L1_riskNeutralProb(U, D, R)\n",
    "print(f\"Risk neutral up prob: q(U,D,R) = q({U},{D},{R}) = {q}\", \"\\n\")"
   ]
  },
  {
   "cell_type": "code",
   "execution_count": 4,
   "id": "ea5d063f-c32e-429b-abdf-0fef43e6c94b",
   "metadata": {},
   "outputs": [
    {
     "name": "stdout",
     "output_type": "stream",
     "text": [
      "Success!! :D\n"
     ]
    }
   ],
   "source": [
    "print(\"Success!! :D\")"
   ]
  }
 ],
 "metadata": {
  "kernelspec": {
   "display_name": ".venv",
   "language": "python",
   "name": ".venv"
  },
  "language_info": {
   "codemirror_mode": {
    "name": "ipython",
    "version": 3
   },
   "file_extension": ".py",
   "mimetype": "text/x-python",
   "name": "python",
   "nbconvert_exporter": "python",
   "pygments_lexer": "ipython3",
   "version": "3.11.6"
  }
 },
 "nbformat": 4,
 "nbformat_minor": 5
}
