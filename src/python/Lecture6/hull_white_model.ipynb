{
 "cells": [
  {
   "cell_type": "markdown",
   "id": "f8ba3f1b-8a9e-44f4-8162-0eb2a7fb5e4d",
   "metadata": {},
   "source": [
    "# Hull White Analysis"
   ]
  },
  {
   "cell_type": "code",
   "execution_count": 1,
   "id": "2163ed1a-768b-4618-82f0-15d7c6b98d54",
   "metadata": {},
   "outputs": [],
   "source": [
    "import random_number as rn\n",
    "from matplotlib import pyplot as plt\n",
    "import short_rate_model as srm\n",
    "import numpy as np\n",
    "import scipy.stats as stats\n",
    "import math"
   ]
  },
  {
   "cell_type": "markdown",
   "id": "81fa9632-7beb-40de-9240-475f3ed4e74c",
   "metadata": {},
   "source": [
    "### Hull White model:\n",
    "\n",
    "The Hull White short rate model is defined as:\n",
    "\\begin{align}\n",
    "dr_t = k (\\theta(t) - r_t) \\, dt + \\sigma(t) \\, dW_t\n",
    "\\end{align}\n",
    "i.e. it is identical to the Vasicek model, but the long term mean $\\theta(t)$ and short rate vol $\\sigma(t)$ are now functions of time. \n",
    "\n",
    "We can solve the HW SDE with the same trick we used for solving the Vasicek SDE:\n",
    "\\begin{align}\n",
    "d\\big(\\exp(kt) \\, r_t \\big) = \\exp(kt) \\, \\tilde{\\theta}(t) \\, dt + \\exp(kt) \\, \\sigma(t) \\, dW_t.\n",
    "\\end{align}\n",
    "where $\\tilde{\\theta}(t) \\equiv \\theta(t) \\ k$. Integrating both sides from $t$ to $s$ and rearranging terms, we get\n",
    "\\begin{align}\n",
    "\\boxed{r_s = \\exp(-k(s-t)) \\, r_t + \\int_t^s \\exp(-k(s-u)) \\, \\tilde{\\theta}(u) \\, du + \\int_t^s \\exp(-k(s-u)) \\, \\sigma(u) \\, dW_u}\n",
    "\\end{align}"
   ]
  },
  {
   "cell_type": "code",
   "execution_count": null,
   "id": "bf766764-95d5-4f15-a67e-824e5f30176c",
   "metadata": {},
   "outputs": [],
   "source": []
  },
  {
   "cell_type": "markdown",
   "id": "f3d60e42-30e4-493a-b9e7-799b68d13068",
   "metadata": {},
   "source": [
    "The HW model implied ZCB pricing derivation follows almost exactly as the that of the Vasicek model. Let $X_t \\equiv \\int_t^T r_u \\, du$, then the ZCB price at time $t$ is given as:\n",
    "\\begin{align}\n",
    "B(t, T) &= \\mathbb{E}^{\\mathbb{Q}}_t \\big[\\exp \\big( -X_t \\big) \\big] \\\\\n",
    "        &= \\exp \\bigg( -\\mathbb{E}^{\\mathbb{Q}}_t[X_t] + \\frac{1}{2} \\mathbb{V}ar[X_t] \\bigg)\n",
    "\\end{align}\n",
    "with the mean and variance of $X_t \\equiv \\int_t^T r_u \\, du$ given as\n",
    "\\begin{align}\n",
    "\\mathbb{E} [X_t] &= r_t \\, G(t, T \\,|\\, k) + \\int_t^T \\tilde{\\theta}(u) \\, G(u, T \\,|\\, k) \\, du \\\\\n",
    "\\mathbb{V}ar [X_T] &= \\int_t^T \\sigma^2(u) \\, G^2(u, T \\,|\\, k) \\, du\n",
    "\\end{align}\n",
    "where the $G(0, T \\,|\\, k)$ is the same as the one used in the Vasicek analysis:\n",
    "\\begin{align}\n",
    "G(t,s \\,|\\, k) &\\equiv \\int_t^s \\exp(-k(s-u)) \\, du \\\\\n",
    "                &= \\frac{1 - \\exp(-k(s-t))}{k}\n",
    "\\end{align}\n",
    "Putting everything together, the HW implied ZCB is given as\n",
    "\\begin{align}\n",
    "\\boxed{B(t,T) = \\exp \\bigg( -r_t \\, G(t,T \\,|\\, k) - \\int_t^T \\tilde{\\theta}(u) \\, G(u,T \\,|\\, k) \\, du + \\frac{1}{2} \\int_t^T \\sigma^2(u) \\, G^2(u,T \\,|\\, k) \\, du  \\bigg)}\n",
    "\\end{align}\n",
    "\n",
    "The goal here is to extract $\\tilde{\\theta}(u)$ and calibrate it such that it fits the initial discount curve $T \\mapsto B(0,T)$ exactly. We shall proceed by assuming constant short rate vol $\\sigma$."
   ]
  },
  {
   "cell_type": "code",
   "execution_count": null,
   "id": "4685291d-f121-4c94-a604-ab9bb5c5324a",
   "metadata": {},
   "outputs": [],
   "source": []
  },
  {
   "cell_type": "markdown",
   "id": "9bf6dacc-dac9-410b-b7b3-2060f76beaa4",
   "metadata": {},
   "source": [
    "In order to calibrate $\\tilde{\\theta}(u)$ to the day-0 discount curve, we need to be able to express the second integral $\\int_t^T \\tilde{\\theta}(u) \\, G(u,T \\,|\\, k) \\, du$ with day-0 market quantities. To start, we have\n",
    "\n",
    "\\begin{align}\n",
    "\\ln B(0,T) &= -r_0 \\, G(0,T) - \\int_0^T \\tilde{\\theta}(u) \\, G(u,T) \\, du + \\frac{1}{2} \\int_0^T \\sigma^2(u) \\, G^2(u,T) \\, du   \\\\\n",
    "\\ln B(0,t) &= -r_0 \\, G(0,t) - \\int_0^t \\tilde{\\theta}(u) \\, G(u,t) \\, du + \\frac{1}{2} \\int_0^t \\sigma^2(u) \\, G^2(u,t) \\, du \n",
    "\\end{align}\n",
    "\n",
    "Taking the difference of the two equations will give us the term $\\int_t^T \\tilde{\\theta}(u) \\, G(u,T \\,|\\, k) \\, du$. Specifically, we look at the difference between the second term (first integral) in the equations above:\n",
    "\\begin{align}\n",
    "& \\;\\;\\;\\;\\;\\; \\int_0^T \\tilde{\\theta}(u) \\, G(u,T) \\, du - \\int_0^t \\tilde{\\theta}(u) \\, G(u,t) \\, du \\\\\n",
    "&= \n",
    "\\int_t^T \\tilde{\\theta}(u) \\, G(u,T) \\, du + \\int_0^t \\tilde{\\theta}(u) \\, \\big( \\underbrace{G(u,T ) - G(u,t)}_{\\partial_t G(u,t) \\, G(t,T)} \\big) \\, du \\\\\n",
    "&=\n",
    "\\int_t^T \\tilde{\\theta}(u) \\, G(u,T) \\, du + G(t,T) \\int_0^t \\tilde{\\theta}(u) \\, \\partial_t G(u,t) \\, du\n",
    "\\end{align}\n",
    "\n",
    "The extra term $G(t,T) \\int_0^t \\tilde{\\theta}(u) \\, \\partial_t G(u,t) \\, du$ can be eliminated by noting that:\n",
    "\\begin{align}\n",
    "f(0,t) &\\equiv -\\partial_t \\ln B(0,t) \\\\\n",
    "        &= r_0 \\, \\partial_t G(0,t) + \\int_0^t \\tilde{\\theta}(u) \\, \\partial_t G(u,t) \\, du - \\int_0^t \\sigma^2  G(u, t) \\, \\partial_t G(u,t) \\, du\n",
    "\\end{align}\n",
    "\\begin{align}\n",
    "\\implies \n",
    "G(t,T) \\int_0^t \\tilde{\\theta}(u) \\, \\partial_t G(u,t) \\, du\n",
    "= f(0,t) G(t,T) - r_0 \\underbrace{G(t,T) \\partial_t G(0,t)}_{G(0,T) - G(0,t)} + G(t,T) \\int_0^t \\sigma^2  G(u, t) \\, \\partial_t G(u,t) \\, du\n",
    "\\end{align}"
   ]
  },
  {
   "cell_type": "markdown",
   "id": "399e561b-9906-4f0d-9712-824c95a9f8ba",
   "metadata": {},
   "source": [
    "tbc..."
   ]
  },
  {
   "cell_type": "code",
   "execution_count": null,
   "id": "df1b2534-0bc0-4167-a9b8-d73d099562d1",
   "metadata": {},
   "outputs": [],
   "source": []
  },
  {
   "cell_type": "code",
   "execution_count": null,
   "id": "2b4bb982-d31e-4b51-ae2d-ff3bf12829a0",
   "metadata": {},
   "outputs": [],
   "source": []
  },
  {
   "cell_type": "code",
   "execution_count": null,
   "id": "b435487e-a19e-46f1-8b9c-d8dc8c763f83",
   "metadata": {},
   "outputs": [],
   "source": []
  },
  {
   "cell_type": "code",
   "execution_count": null,
   "id": "d8de3273-03ba-4c73-bf5d-9b265c389a52",
   "metadata": {},
   "outputs": [],
   "source": []
  },
  {
   "cell_type": "code",
   "execution_count": null,
   "id": "d27f2556-cb96-435d-9397-fa42ee8a4790",
   "metadata": {},
   "outputs": [],
   "source": []
  },
  {
   "cell_type": "code",
   "execution_count": null,
   "id": "fe161893-0ce7-497c-9818-ca98d102872a",
   "metadata": {},
   "outputs": [],
   "source": []
  }
 ],
 "metadata": {
  "kernelspec": {
   "display_name": "Python 3 (ipykernel)",
   "language": "python",
   "name": "python3"
  },
  "language_info": {
   "codemirror_mode": {
    "name": "ipython",
    "version": 3
   },
   "file_extension": ".py",
   "mimetype": "text/x-python",
   "name": "python",
   "nbconvert_exporter": "python",
   "pygments_lexer": "ipython3",
   "version": "3.11.6"
  }
 },
 "nbformat": 4,
 "nbformat_minor": 5
}
