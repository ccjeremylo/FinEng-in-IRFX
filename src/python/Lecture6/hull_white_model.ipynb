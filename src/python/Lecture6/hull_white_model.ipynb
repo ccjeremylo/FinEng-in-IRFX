{
 "cells": [
  {
   "cell_type": "markdown",
   "id": "f8ba3f1b-8a9e-44f4-8162-0eb2a7fb5e4d",
   "metadata": {},
   "source": [
    "# Hull White Analysis"
   ]
  },
  {
   "cell_type": "code",
   "execution_count": 1,
   "id": "2163ed1a-768b-4618-82f0-15d7c6b98d54",
   "metadata": {},
   "outputs": [],
   "source": [
    "import random_number as rn\n",
    "from matplotlib import pyplot as plt\n",
    "import short_rate_model as srm\n",
    "import numpy as np\n",
    "import scipy.stats as stats\n",
    "import math"
   ]
  },
  {
   "cell_type": "markdown",
   "id": "81fa9632-7beb-40de-9240-475f3ed4e74c",
   "metadata": {},
   "source": [
    "### Hull White model:\n",
    "\n",
    "The Hull White short rate model is defined as:\n",
    "\\begin{align}\n",
    "dr_t = k \\big( \\theta(t) - r_t \\big) \\, dt + \\sigma(t) \\, dW_t\n",
    "\\end{align}\n",
    "i.e. it is identical to the Vasicek model, but the long term mean $\\theta(t)$ and short rate vol $\\sigma(t)$ are now functions of time. \n",
    "\n",
    "We can solve the HW SDE with the same trick we used for solving the Vasicek SDE:\n",
    "\\begin{align}\n",
    "d\\big(\\exp(kt) \\, r_t \\big) = \\exp(kt) \\, \\tilde{\\theta}(t) \\, dt + \\exp(kt) \\, \\sigma(t) \\, dW_t.\n",
    "\\end{align}\n",
    "where $\\tilde{\\theta}(t) \\equiv \\theta(t) \\ k$. Integrating both sides from $t$ to $s$ and rearranging terms, we get\n",
    "\\begin{align}\n",
    "\\boxed{r_s = \\exp(-k(s-t)) \\, r_t + \\int_t^s \\exp(-k(s-u)) \\, \\tilde{\\theta}(u) \\, du + \\int_t^s \\exp(-k(s-u)) \\, \\sigma(u) \\, dW_u}\n",
    "\\end{align}"
   ]
  },
  {
   "cell_type": "code",
   "execution_count": null,
   "id": "bf766764-95d5-4f15-a67e-824e5f30176c",
   "metadata": {},
   "outputs": [],
   "source": []
  },
  {
   "cell_type": "markdown",
   "id": "f3d60e42-30e4-493a-b9e7-799b68d13068",
   "metadata": {},
   "source": [
    "The HW model implied ZCB price derivation follows almost exactly as that of the Vasicek model. Let $X_t \\equiv \\int_t^T r_u \\, du$, then the ZCB price at time $t$ is given as:\n",
    "\\begin{align}\n",
    "B(t, T) &= \\mathbb{E}^{\\mathbb{Q}}_t \\big[\\exp \\big( -X_t \\big) \\big] \\\\\n",
    "        &= \\exp \\bigg( -\\mathbb{E}^{\\mathbb{Q}}_t[X_t] + \\frac{1}{2} \\mathbb{V}ar[X_t] \\bigg)\n",
    "\\end{align}\n",
    "with the mean and variance of $X_t \\equiv \\int_t^T r_u \\, du$ given as\n",
    "\\begin{align}\n",
    "\\mathbb{E} [X_t] &= r_t \\, G(t, T) + \\int_t^T \\tilde{\\theta}(u) \\, G(u, T) \\, du \\\\\n",
    "\\mathbb{V}ar [X_T] &= \\int_t^T \\sigma^2(u) \\, G^2(u, T \\,|\\, k) \\, du\n",
    "\\end{align}\n",
    "where the $G(0, T \\,|\\, k)$ is the same as the one used in the Vasicek analysis:\n",
    "\\begin{align}\n",
    "G(t,s \\,|\\, k) &\\equiv \\int_t^s \\exp(-k(s-u)) \\, du \\\\\n",
    "                &= \\frac{1 - \\exp(-k(s-t))}{k}\n",
    "\\end{align}\n",
    "Putting everything together, the HW implied ZCB is given as\n",
    "\\begin{align}\n",
    "\\boxed{B(t,T) = \\exp \\bigg( -r_t \\, G(t,T) - \\int_t^T \\tilde{\\theta}(u) \\, G(u,T) \\, du + \\frac{1}{2} \\int_t^T \\sigma^2(u) \\, G^2(u,T) \\, du  \\bigg)}\n",
    "\\end{align}\n",
    "\n",
    "The goal here is to extract $\\tilde{\\theta}(u)$ and calibrate it such that it fits the initial discount curve $T \\mapsto B(0,T)$ exactly. We shall proceed by assuming a known (calibrated) short rate vol $\\sigma$."
   ]
  },
  {
   "cell_type": "code",
   "execution_count": null,
   "id": "4685291d-f121-4c94-a604-ab9bb5c5324a",
   "metadata": {},
   "outputs": [],
   "source": []
  },
  {
   "cell_type": "markdown",
   "id": "d8a464db-8664-4fe0-9795-2c6f46ba2d45",
   "metadata": {},
   "source": [
    "$\\tilde{\\theta}(u)$ can be calibrated numerically using the day-0 discount curve, $T \\mapsto B(0,T)$:\n",
    "\n",
    "\\begin{align}\n",
    "B(0,T) = \\exp \\bigg( -r_0 \\, G(0,T \\,|\\, k) - \\int_0^T \\tilde{\\theta}(u) \\, G(u,T \\,|\\, k) \\, du + \\frac{1}{2} \\int_0^T \\sigma^2(u) \\, G^2(u,T \\,|\\, k) \\, du  \\bigg)\n",
    "\\end{align}\n",
    "\n",
    "\\begin{align}\n",
    "\\implies \\int_0^T \\tilde{\\theta}(u) \\, G(u,T \\,|\\, k) \\, du = -\\ln B(0,T) + \\frac{1}{2} \\int_0^T \\sigma^2(u) \\, G^2(u,T \\,|\\, k) \\, du - r_0 \\, G(0,T \\,|\\, k) \n",
    "\\end{align}\n",
    "\n",
    "If we assume piecewise constant $\\tilde{\\theta}(u)$, then:\n",
    "\\begin{align}\n",
    "\\sum_{i=1}^{N-1} \\bigg( \\tilde{\\theta}(t_{i}) \\int_{t_{i}}^{t_{i+1}} G(u,T \\,|\\, k) \\, du\\bigg) = -\\ln B(0,T) + \\frac{1}{2} \\int_0^T \\sigma^2(u) \\, G^2(u,T \\,|\\, k) \\, du - r_0 \\, G(0,T \\,|\\, k) \n",
    "\\end{align}\n",
    "where $t_0=0$ and $t_N=T$. The function $\\tilde{\\theta}(u)$ can now be bootstrapped using the day-0 discount curve, $T \\mapsto B(0,T)$."
   ]
  },
  {
   "cell_type": "code",
   "execution_count": null,
   "id": "e9df4dc6-96f4-46e6-a040-0981dd774d3c",
   "metadata": {},
   "outputs": [],
   "source": []
  },
  {
   "cell_type": "markdown",
   "id": "9bf6dacc-dac9-410b-b7b3-2060f76beaa4",
   "metadata": {},
   "source": [
    "We are also interested in calibrating $\\tilde{\\theta}(u)$ analytically. More directly, we aim to express the integral $\\int_t^T \\tilde{\\theta}(u) \\, G(u,T) \\, du$ as a function of day-0 market quantities. To start, we have\n",
    "\n",
    "\\begin{align}\n",
    "\\ln B(0,T) &= -r_0 \\, G(0,T) - \\int_0^T \\tilde{\\theta}(u) \\, G(u,T) \\, du + \\frac{1}{2} \\int_0^T \\sigma^2(u) \\, G^2(u,T) \\, du   \\\\\n",
    "\\ln B(0,t) &= -r_0 \\, G(0,t) - \\underbrace{\\int_0^t \\tilde{\\theta}(u) \\, G(u,t) \\, du}_{\\color{red}{\\text{A}}} + \\underbrace{\\frac{1}{2} \\int_0^t \\sigma^2(u) \\, G^2(u,t) \\, du}_{\\color{blue}{\\text{B}}}\n",
    "\\end{align}"
   ]
  },
  {
   "cell_type": "markdown",
   "id": "16bc08f3-3528-40f5-8146-56619cfb43fa",
   "metadata": {},
   "source": [
    "Taking the difference of the two equations will give us the term we wanted: $\\int_t^T \\tilde{\\theta}(u) \\, G(u,T) \\, du$. Specifically focusing on the second terms ($\\color{red}{\\text{A}}$), we have:\n",
    "\\begin{align}\n",
    "&\\int_0^T \\tilde{\\theta}(u) \\, G(u,T) \\, du - \\int_0^t \\tilde{\\theta}(u) \\, G(u,t) \\, du \\\\\n",
    "&\\;\\;\\;\\;\\;\\;\\; = \n",
    "\\int_t^T \\tilde{\\theta}(u) \\, G(u,T) \\, du + \\int_0^t \\tilde{\\theta}(u) \\, \\big( \\underbrace{G(u,T ) - G(u,t)}_{\\partial_t G(u,t) \\, G(t,T)} \\big) \\, du \\\\\n",
    "&\\;\\;\\;\\;\\;\\;\\; =\n",
    "\\underbrace{\\int_t^T \\tilde{\\theta}(u) \\, G(u,T) \\, du}_{\\text{what we want}} + \\underbrace{G(t,T) \\int_0^t \\tilde{\\theta}(u) \\, \\partial_t G(u,t) \\, du}_{\\text{extra term}}\n",
    "\\end{align}\n",
    "\n",
    "The extra term $G(t,T) \\int_0^t \\tilde{\\theta}(u) \\, \\partial_t G(u,t) \\, du$ can be eliminated by noting that:\n",
    "\\begin{align}\n",
    "f(0,t) &\\equiv -\\partial_t \\ln B(0,t) \\\\\n",
    "        &= r_0 \\, \\partial_t G(0,t) + \\int_0^t \\tilde{\\theta}(u) \\, \\partial_t G(u,t) \\, du - \\int_0^t \\sigma^2  G(u, t) \\, \\partial_t G(u,t) \\, du\n",
    "\\end{align}\n",
    "\\begin{align}\n",
    "\\implies \n",
    "G(t,T) \\int_0^t \\tilde{\\theta}(u) \\, \\partial_t G(u,t) \\, du\n",
    "= f(0,t) G(t,T) - r_0 \\underbrace{G(t,T) \\partial_t G(0,t)}_{G(0,T) - G(0,t)} + G(t,T) \\int_0^t \\sigma^2  G(u, t) \\, \\partial_t G(u,t) \\, du\n",
    "\\end{align}"
   ]
  },
  {
   "cell_type": "markdown",
   "id": "3200ddf9-8325-4811-8efe-5a62635633a2",
   "metadata": {},
   "source": [
    "Focusing on the third terms ($\\color{blue}{\\text{B}}$), we have:\n",
    "\\begin{align}\n",
    "&\\frac{1}{2} \\int_0^T \\sigma^2(u) \\, G^2(u,T) \\, du - \\frac{1}{2} \\int_0^t \\sigma^2(u) \\, G^2(u,t) \\, du \\\\\n",
    "&\\;\\;\\;\\;\\;\\;\\; = \n",
    "\\frac{1}{2} \\int_t^T \\sigma^2(u) \\, G^2(u,T) \\, du + \\frac{1}{2} \\int_0^t \\sigma^2(u) \\big( G^2(u,T) - G^2(u,t) \\big) \\, du \\\\\n",
    "&\\;\\;\\;\\;\\;\\;\\; = \n",
    "\\frac{1}{2} \\int_t^T \\sigma^2(u) \\, G^2(u,T) \\, du + \\frac{1}{2} \\int_0^t \\sigma^2(u) \\partial_t G(u,t) G(t,T) \\bigg( G(u,T) + G(u,t) \\bigg) \\, du \\\\\n",
    "&\\;\\;\\;\\;\\;\\;\\; = \n",
    "\\frac{1}{2} \\int_t^T \\sigma^2(u) \\, G^2(u,T) \\, du + G(t,T) \\int_0^t \\sigma^2(u) \\, G(u,t) \\, \\partial_t G(u,t) \\, du + \\frac{1}{2} G^2(t,T) \\int_0^t \\sigma^2(u) \\, \\partial_t G^2(u,t) \\, du\n",
    "\\end{align}\n"
   ]
  },
  {
   "cell_type": "markdown",
   "id": "e6c7c274-c026-4e53-be95-fe06e76b003f",
   "metadata": {},
   "source": [
    "Putting everything together, we have $\\ln B(0,T) - \\ln B(0,t)$ given as:\n",
    "\\begin{align}\n",
    "\\ln \\frac{B(0,T)}{B(0,t)} \n",
    "&= - \\underbrace{\\int_t^T \\tilde{\\theta}(u) G(u,T) \\, du}_{\\text{what we want (from ($\\color{red}{\\text{A}}$))}} \\\\\n",
    "& \\;\\;\\;\\;\\;\\;\\; \\underbrace{-f(0,t) G(t,T) + r_0 \\big(G(0,T) - G(0,t)\\big) - G(t,T) \\int_0^t \\sigma^2  G(u, t) \\, \\partial_t G(u,t) \\, du}_{\\text{eliminating extra term (from ($\\color{red}{\\text{A}}$))}} \\\\\n",
    "& \\;\\;\\;\\;\\;\\;\\; + \\underbrace{\\frac{1}{2} \\int_t^T \\sigma^2(u) \\, G^2(u,T) \\, du + G(t,T) \\int_0^t \\sigma^2(u) \\, G(u,t) \\, \\partial_t G(u,t) \\, du + \\frac{1}{2} G^2(t,T) \\int_0^t \\sigma^2(u) \\, \\partial_t G^2(u,t) \\, du}_{\\text{from ($\\color{blue}{\\text{B}}$)}} \\\\\n",
    "&= -f(0,t) G(t,T) \n",
    "+ r_0 \\big(G(0,T) - G(0,t)\\big)\n",
    "-\\underbrace{\\int_t^T \\tilde{\\theta}(u) G(u,T) \\, du}_{\\text{what we want}} \\\\\n",
    "& \\;\\;\\;\\;\\;\\; + \\frac{1}{2} \\int_t^T \\sigma^2(u) \\, G^2(u,T) \\, du\n",
    "+ \\frac{1}{2} G^2(t,T) \\int_0^t \\sigma^2(u) \\, \\partial_t G^2(u,t) \\, du\n",
    "\\end{align}\n",
    "Rearranging, we now have an analytical expression of the integral $\\int_t^T \\tilde{\\theta}(u) G(u,T) \\, du$ in terms of day-0 market quantities:\n",
    "\\begin{align}\n",
    "\\implies\n",
    "\\underbrace{\\int_t^T \\tilde{\\theta}(u) G(u,T) \\, du}_{\\text{what we want}}\n",
    "&= -\\ln \\frac{B(0,T)}{B(0,t)}\n",
    "-f(0,t) G(t,T) \n",
    "+ r_0 \\big(G(0,T) - G(0,t)\\big) \\\\\n",
    "& \\;\\;\\;\\;\\;\\;\\; + \\frac{1}{2} \\int_t^T \\sigma^2(u) \\, G^2(u,T) \\, du\n",
    "+ \\frac{1}{2} G^2(t,T) \\int_0^t \\sigma^2(u) \\, \\partial_t G^2(u,t) \\, du \n",
    "\\end{align}"
   ]
  },
  {
   "cell_type": "markdown",
   "id": "3aac081d-5c31-456b-8749-b5a03f22efa7",
   "metadata": {},
   "source": [
    "Substituting the integral back into our HW ZCB equation:\n",
    "\\begin{align}\n",
    "B(t,T) = \\exp \\bigg( -r_t \\, G(t,T) - \\underbrace{\\int_t^T \\tilde{\\theta}(u) \\, G(u,T) \\, du}_{\\text{substitude here}} + \\frac{1}{2} \\int_t^T \\sigma^2(u) \\, G^2(u,T) \\, du  \\bigg)\n",
    "\\end{align}\n",
    "We now have\n",
    "\\begin{align}\n",
    "B(t,T) = \n",
    "\\frac{B(0,T)}{B(0,t)} \\, \n",
    "\\exp \\bigg( -r_t \\, G(t,T) + f(0,t) \\, G(t,T) - \\underbrace{r_0 \\big(G(0,T) - G(0,t)\\big)}_{\\text{where?!}} - \\frac{1}{2} G^2(t,T) \\int_0^t \\sigma^2(u) \\, \\partial_t G^2(u,t) \\, du \\bigg)\n",
    "\\end{align}\n",
    "Tidying up, we have\n",
    "\\begin{align}\n",
    "\\boxed{B(t,T) = \n",
    "\\frac{B(0,T)}{B(0,t)} \\, \n",
    "\\exp \\bigg( -\\underbrace{\\big(r_t - f(0,t) \\big)}_{x_t} \\, G(t,T) - \\frac{1}{2} G^2(t,T) \\underbrace{\\int_0^t \\sigma^2(u) \\, \\partial_t G^2(u,t) \\, du}_{y_t} \\,\\bigg)}\n",
    "\\end{align}\n",
    "where $\\partial_t G^2(u,t) = \\exp \\big( -2k (t-u) \\big)$."
   ]
  },
  {
   "cell_type": "code",
   "execution_count": null,
   "id": "d27f2556-cb96-435d-9397-fa42ee8a4790",
   "metadata": {},
   "outputs": [],
   "source": []
  },
  {
   "cell_type": "code",
   "execution_count": null,
   "id": "fe161893-0ce7-497c-9818-ca98d102872a",
   "metadata": {},
   "outputs": [],
   "source": []
  }
 ],
 "metadata": {
  "kernelspec": {
   "display_name": "Python 3 (ipykernel)",
   "language": "python",
   "name": "python3"
  },
  "language_info": {
   "codemirror_mode": {
    "name": "ipython",
    "version": 3
   },
   "file_extension": ".py",
   "mimetype": "text/x-python",
   "name": "python",
   "nbconvert_exporter": "python",
   "pygments_lexer": "ipython3",
   "version": "3.11.6"
  }
 },
 "nbformat": 4,
 "nbformat_minor": 5
}
